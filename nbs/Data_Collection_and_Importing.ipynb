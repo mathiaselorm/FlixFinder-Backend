{
 "cells": [
  {
   "cell_type": "markdown",
   "id": "d9621c77-4888-4d0a-8dfa-629e1525fe3a",
   "metadata": {},
   "source": [
    "\n",
    "Stage 1 of your project, detailing the data collection, importing, verification, and the setups you've implemented:\n",
    "\n",
    "Stage 1 Documentation: Data Collection and Importing\n",
    "Overview\n",
    "This document outlines the processes and methods used in Stage 1 of the movie recommendation system project, focusing on data collection, importing, and verification to ensure data integrity and readiness for further development stages.\n",
    "\n",
    "Data Sources\n",
    "MovieLens Dataset\n",
    "Description: Utilized for the initial bulk of movie and ratings data.\n",
    "Contents:\n",
    "Movies data including titles, genres, and metadata.\n",
    "User ratings for movies.\n",
    "Source: MovieLens website.\n",
    "TMDb API\n",
    "Description: Used to enrich the MovieLens data with additional movie details such as posters, trailers, and extended metadata.\n",
    "API Key: Registered and obtained from The Movie Database (TMDb).\n",
    "Usage:\n",
    "Fetching movie posters and trailers.\n",
    "Updating movie metadata for existing records in the database.\n",
    "API Details: TMDb API Documentation\n",
    "Database Schema\n",
    "Models\n",
    "Movie\n",
    "Fields: id, title, genres, overview, release_date, poster_url, trailer_url, etc.\n",
    "CustomUser\n",
    "Fields: id, email, first_name, last_name, phone_number, date_of_birth, gender, bio, preferences, location.\n",
    "Rating\n",
    "Fields: id, user (ForeignKey to CustomUser), movie (ForeignKey to Movie), score, timestamp.\n",
    "Relationships\n",
    "Rating model links to CustomUser and Movie models via ForeignKey relationships to represent which user rated which movie and the score they gave.\n",
    "Data Importing Process\n",
    "Setup and Configuration\n",
    "Database Configuration: PostgreSQL used as the backend database, configured within Django's settings.\n",
    "Migrations: Django migrations created and applied to set up initial database schema based on defined models.\n",
    "Import Scripts\n",
    "Scripts Written:\n",
    "Scripts to import data from CSV files provided by MovieLens into the Django models.\n",
    "Scripts to call the TMDb API to fetch additional data and update the movie records.\n",
    "Data Validation:\n",
    "Ensured unique constraints (e.g., phone numbers in the CustomUser model).\n",
    "Checked the presence and correctness of foreign key references (user IDs and movie IDs in the ratings).\n",
    "Efficiency Considerations\n",
    "Utilized bulk insert techniques for large data imports to optimize performance.\n",
    "Managed API rate limits and response handling efficiently to ensure robust data fetching without interruptions.\n",
    "Data Verification Process\n",
    "Integrity Checks\n",
    "Ran scripts to verify that all user IDs and movie IDs in the ratings dataset correctly match those in the user and movie datasets respectively.\n",
    "Checked for data consistency and completeness, ensuring no critical information was missing or incorrectly formatted.\n",
    "Tools and Methods Used\n",
    "Django ORM queries for database integrity checks.\n",
    "Python scripts for automated verification and logging of data integrity issues.\n",
    "Documentation\n",
    "Purpose: This document serves to provide clarity and reference for all processes involved in the initial data setup for the movie recommendation system.\n",
    "Maintainers: [Your Name/Organization]\n",
    "Version: 1.0\n",
    "Date: [Today’s Date]"
   ]
  },
  {
   "cell_type": "code",
   "execution_count": null,
   "id": "d5a143de-0c4c-4b27-b38e-b63de00a86c1",
   "metadata": {},
   "outputs": [],
   "source": []
  }
 ],
 "metadata": {
  "kernelspec": {
   "display_name": "Python 3 (ipykernel)",
   "language": "python",
   "name": "python3"
  },
  "language_info": {
   "codemirror_mode": {
    "name": "ipython",
    "version": 3
   },
   "file_extension": ".py",
   "mimetype": "text/x-python",
   "name": "python",
   "nbconvert_exporter": "python",
   "pygments_lexer": "ipython3",
   "version": "3.12.2"
  }
 },
 "nbformat": 4,
 "nbformat_minor": 5
}
