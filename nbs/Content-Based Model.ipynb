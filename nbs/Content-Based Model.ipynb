{
 "cells": [
  {
   "cell_type": "code",
   "execution_count": 1,
   "id": "db36ce3e-5afb-497f-a59d-e807687a9b6a",
   "metadata": {},
   "outputs": [],
   "source": [
    "import django_jupyter\n",
    "django_jupyter.init()"
   ]
  },
  {
   "cell_type": "markdown",
   "id": "1a5c1ae7-8da0-4769-b973-5b2fd90ab3d7",
   "metadata": {},
   "source": [
    "##### 1.1 Load Movie Metadata\n",
    "We need to load the movie metadata, such as genres, directors, and plot summaries, from your Django database. Let’s begin by fetching this data."
   ]
  },
  {
   "cell_type": "code",
   "execution_count": 2,
   "id": "85ad5d99-cc12-49b8-bc5c-08c88d0cddb5",
   "metadata": {},
   "outputs": [
    {
     "data": {
      "text/html": [
       "<div>\n",
       "<style scoped>\n",
       "    .dataframe tbody tr th:only-of-type {\n",
       "        vertical-align: middle;\n",
       "    }\n",
       "\n",
       "    .dataframe tbody tr th {\n",
       "        vertical-align: top;\n",
       "    }\n",
       "\n",
       "    .dataframe thead th {\n",
       "        text-align: right;\n",
       "    }\n",
       "</style>\n",
       "<table border=\"1\" class=\"dataframe\">\n",
       "  <thead>\n",
       "    <tr style=\"text-align: right;\">\n",
       "      <th></th>\n",
       "      <th>id</th>\n",
       "      <th>title</th>\n",
       "      <th>overview</th>\n",
       "      <th>genres__name</th>\n",
       "    </tr>\n",
       "  </thead>\n",
       "  <tbody>\n",
       "    <tr>\n",
       "      <th>0</th>\n",
       "      <td>708</td>\n",
       "      <td>Two Friends</td>\n",
       "      <td>Two Sicilian friends, Nunzio and Pino, share t...</td>\n",
       "      <td>Drama</td>\n",
       "    </tr>\n",
       "    <tr>\n",
       "      <th>1</th>\n",
       "      <td>708</td>\n",
       "      <td>Two Friends</td>\n",
       "      <td>Two Sicilian friends, Nunzio and Pino, share t...</td>\n",
       "      <td>Foreign</td>\n",
       "    </tr>\n",
       "    <tr>\n",
       "      <th>2</th>\n",
       "      <td>712</td>\n",
       "      <td>War Stories Our Mother Never Told Us</td>\n",
       "      <td>Seven New Zealand women speak about their live...</td>\n",
       "      <td>Unknown</td>\n",
       "    </tr>\n",
       "    <tr>\n",
       "      <th>3</th>\n",
       "      <td>735</td>\n",
       "      <td>Vermont Is for Lovers</td>\n",
       "      <td>Vermont is for Lovers is an independently prod...</td>\n",
       "      <td>Unknown</td>\n",
       "    </tr>\n",
       "    <tr>\n",
       "      <th>4</th>\n",
       "      <td>869</td>\n",
       "      <td>Venice</td>\n",
       "      <td>An atmospheric coming-of-age story featuring a...</td>\n",
       "      <td>Romance</td>\n",
       "    </tr>\n",
       "  </tbody>\n",
       "</table>\n",
       "</div>"
      ],
      "text/plain": [
       "    id                                 title  \\\n",
       "0  708                           Two Friends   \n",
       "1  708                           Two Friends   \n",
       "2  712  War Stories Our Mother Never Told Us   \n",
       "3  735                 Vermont Is for Lovers   \n",
       "4  869                                Venice   \n",
       "\n",
       "                                            overview genres__name  \n",
       "0  Two Sicilian friends, Nunzio and Pino, share t...        Drama  \n",
       "1  Two Sicilian friends, Nunzio and Pino, share t...      Foreign  \n",
       "2  Seven New Zealand women speak about their live...      Unknown  \n",
       "3  Vermont is for Lovers is an independently prod...      Unknown  \n",
       "4  An atmospheric coming-of-age story featuring a...      Romance  "
      ]
     },
     "execution_count": 2,
     "metadata": {},
     "output_type": "execute_result"
    }
   ],
   "source": [
    "import pandas as pd\n",
    "from movies.models import Movie\n",
    "\n",
    "# Fetch movie metadata from the database\n",
    "movies = Movie.objects.all().values('id', 'title', 'overview', 'genres__name')\n",
    "\n",
    "# Convert the queryset to a DataFrame\n",
    "movies_df = pd.DataFrame(list(movies))\n",
    "\n",
    "# Display the first few rows to verify\n",
    "movies_df.head()\n"
   ]
  },
  {
   "cell_type": "code",
   "execution_count": 3,
   "id": "24da86c4-7f31-4048-8d75-b37690a6d0b3",
   "metadata": {},
   "outputs": [
    {
     "name": "stdout",
     "output_type": "stream",
     "text": [
      "     id                                 title  \\\n",
      "0   708                           Two Friends   \n",
      "1   712  War Stories Our Mother Never Told Us   \n",
      "2   735                 Vermont Is for Lovers   \n",
      "3   869                                Venice   \n",
      "4  1082                         The Sleepover   \n",
      "\n",
      "                                            overview            genres  \n",
      "0  Two Sicilian friends, Nunzio and Pino, share t...  [Drama, Foreign]  \n",
      "1  Seven New Zealand women speak about their live...         [Unknown]  \n",
      "2  Vermont is for Lovers is an independently prod...         [Unknown]  \n",
      "3  An atmospheric coming-of-age story featuring a...  [Romance, Drama]  \n",
      "4  The town of Derry has a secret, but no one tol...  [Comedy, Horror]  \n"
     ]
    }
   ],
   "source": [
    "import pandas as pd\n",
    "from movies.models import Movie, Genre\n",
    "\n",
    "def get_movie_data():\n",
    "    # Query all movies\n",
    "    movies = Movie.objects.all()\n",
    "    \n",
    "    # Prepare lists to hold data\n",
    "    movie_ids = []\n",
    "    titles = []\n",
    "    overviews = []\n",
    "    genres = []\n",
    "    \n",
    "    # Loop through each movie to extract necessary details\n",
    "    for movie in movies:\n",
    "        movie_ids.append(movie.id)\n",
    "        titles.append(movie.title)\n",
    "        overviews.append(movie.overview if movie.overview else \"\")\n",
    "        # Extract genre names for each movie\n",
    "        genres.append([genre.name for genre in movie.genres.all()])\n",
    "    \n",
    "    # Create a DataFrame\n",
    "    movie_data = pd.DataFrame({\n",
    "        'id': movie_ids,\n",
    "        'title': titles,\n",
    "        'overview': overviews,\n",
    "        'genres': genres\n",
    "    })\n",
    "    \n",
    "    return movie_data\n",
    "\n",
    "# Run the function to get the movie data\n",
    "movie_data = get_movie_data()\n",
    "\n",
    "# Display the first few rows of the DataFrame\n",
    "print(movie_data.head())\n"
   ]
  },
  {
   "cell_type": "markdown",
   "id": "4b55db85-9dac-4de5-83d0-064cbfae25c9",
   "metadata": {},
   "source": [
    "##### Step 1.2: Feature Extraction and Representation\n",
    "We will:\n",
    "\n",
    "Transform the overview (plot summaries) into numerical features using TF-IDF (Term Frequency-Inverse Document Frequency).\n",
    "Encode the genres using one-hot encoding to represent the categorical data numerically."
   ]
  },
  {
   "cell_type": "code",
   "execution_count": 6,
   "id": "fdbcc4f7-2f2e-4033-988b-bf300f0749b9",
   "metadata": {},
   "outputs": [
    {
     "name": "stdout",
     "output_type": "stream",
     "text": [
      "TF-IDF Matrix Shape: (16518, 3000)\n",
      "Genre Matrix Shape: (16518, 21)\n"
     ]
    }
   ],
   "source": [
    "from sklearn.feature_extraction.text import TfidfVectorizer\n",
    "from sklearn.preprocessing import MultiLabelBinarizer\n",
    "\n",
    "# Step 1: Vectorize the movie overviews using TF-IDF\n",
    "tfidf_vectorizer = TfidfVectorizer(stop_words='english', max_features=3000)\n",
    "tfidf_matrix = tfidf_vectorizer.fit_transform(movie_data['overview'].fillna(''))\n",
    "\n",
    "# Step 2: One-hot encode the genres\n",
    "mlb = MultiLabelBinarizer()\n",
    "genre_matrix = mlb.fit_transform(movie_data['genres'])\n",
    "\n",
    "# Display the shapes of the resulting matrices to verify the process\n",
    "print(f\"TF-IDF Matrix Shape: {tfidf_matrix.shape}\")\n",
    "print(f\"Genre Matrix Shape: {genre_matrix.shape}\")\n"
   ]
  },
  {
   "cell_type": "code",
   "execution_count": 7,
   "id": "94db34bb-f055-458a-85b6-2d734f7eb93b",
   "metadata": {},
   "outputs": [
    {
     "name": "stdout",
     "output_type": "stream",
     "text": [
      "          id                    title  \\\n",
      "7122   18800   The Day I Was Not Born   \n",
      "6421   17546            Help Me, Eros   \n",
      "1097    6445                  Seaside   \n",
      "8078   20384                    Udaan   \n",
      "357     4257             Pandaemonium   \n",
      "13690  31238        Swimming Upstream   \n",
      "13248  30545                Rock On!!   \n",
      "11844  27773                   Amador   \n",
      "4966   14830  Letters to Father Jacob   \n",
      "3979   13004                 The Pool   \n",
      "\n",
      "                                                overview  \n",
      "7122   During a stopover in Buenos Aires on her way t...  \n",
      "6421   Ah Jie lost everything in the stock market due...  \n",
      "1097   Seaside takes place in a small coastal town on...  \n",
      "8078   After being abandoned for eight straight years...  \n",
      "357    Set in England during the early 19th century, ...  \n",
      "13690  This is a heart-wrenching story about a happy-...  \n",
      "13248  Sakshi Shroff, the lonely and neglected wife o...  \n",
      "11844  A drama centered on a young woman who takes a ...  \n",
      "4966   With few options, newly pardoned convict Leila...  \n",
      "3979   A boy in abject poverty works in a hotel and b...  \n"
     ]
    }
   ],
   "source": [
    "from sklearn.metrics.pairwise import cosine_similarity\n",
    "import numpy as np\n",
    "\n",
    "# Step 1: Combine the TF-IDF and genre matrices\n",
    "combined_features = np.hstack([tfidf_matrix.toarray(), genre_matrix])\n",
    "\n",
    "# Step 2: Compute the cosine similarity between movies\n",
    "cosine_sim = cosine_similarity(combined_features)\n",
    "\n",
    "# Step 3: Create a function to recommend similar movies\n",
    "def get_content_based_recommendations(movie_id, top_n=10):\n",
    "    # Get the index of the movie that matches the given movie_id\n",
    "    movie_index = movie_data.index[movie_data['id'] == movie_id][0]\n",
    "\n",
    "    # Get the pairwise similarity scores of all movies with that movie\n",
    "    similarity_scores = list(enumerate(cosine_sim[movie_index]))\n",
    "\n",
    "    # Sort the movies based on the similarity scores\n",
    "    similarity_scores = sorted(similarity_scores, key=lambda x: x[1], reverse=True)\n",
    "\n",
    "    # Get the scores of the top_n most similar movies\n",
    "    similarity_scores = similarity_scores[1:top_n+1]  # Exclude the movie itself\n",
    "\n",
    "    # Get the movie indices\n",
    "    movie_indices = [i[0] for i in similarity_scores]\n",
    "\n",
    "    # Return the top_n most similar movies\n",
    "    return movie_data.iloc[movie_indices][['id', 'title', 'overview']]\n",
    "\n",
    "# Test the recommendation function\n",
    "recommended_movies = get_content_based_recommendations(movie_id=708, top_n=10)\n",
    "print(recommended_movies)\n"
   ]
  },
  {
   "cell_type": "code",
   "execution_count": 10,
   "id": "ac1f8810-c9b7-479a-8aa2-a4ffb1da4aa5",
   "metadata": {},
   "outputs": [
    {
     "name": "stdout",
     "output_type": "stream",
     "text": [
      "Recommendations for Movie ID: 708\n",
      "Title: d\n",
      "Unexpected format: title\n",
      "Unexpected format: overview\n",
      "Recommendations for Movie ID: 712\n",
      "Title: d\n",
      "Unexpected format: title\n",
      "Unexpected format: overview\n",
      "Recommendations for Movie ID: 869\n",
      "Title: d\n",
      "Unexpected format: title\n",
      "Unexpected format: overview\n"
     ]
    }
   ],
   "source": [
    "def inspect_recommendations(movie_id, top_n=10):\n",
    "    recommended_movies = get_content_based_recommendations(movie_id, top_n=top_n)\n",
    "    \n",
    "    print(f\"Recommendations for Movie ID: {movie_id}\")\n",
    "    for item in recommended_movies:\n",
    "        # Check the number of elements in each tuple\n",
    "        if len(item) == 3:\n",
    "            movie_id, title, similarity = item\n",
    "            print(f\"Title: {title}, Similarity: {similarity:.4f}\")\n",
    "        elif len(item) == 2:\n",
    "            movie_id, title = item\n",
    "            print(f\"Title: {title}\")\n",
    "        else:\n",
    "            print(f\"Unexpected format: {item}\")\n",
    "\n",
    "# Inspect recommendations for a few movie IDs\n",
    "inspect_recommendations(movie_id=708)  # Replace with a valid movie ID from your dataset\n",
    "inspect_recommendations(movie_id=712)\n",
    "inspect_recommendations(movie_id=869)\n"
   ]
  },
  {
   "cell_type": "code",
   "execution_count": 13,
   "id": "9d044654-f26b-450d-8f67-156884f360e9",
   "metadata": {},
   "outputs": [
    {
     "name": "stdout",
     "output_type": "stream",
     "text": [
      "Raw recommendations for Movie ID: 708\n",
      "(708, 'Movie Title 1', 0.89)\n",
      "(712, 'Movie Title 2', 0.85)\n",
      "Raw recommendations for Movie ID: 712\n",
      "(708, 'Movie Title 1', 0.89)\n",
      "(712, 'Movie Title 2', 0.85)\n",
      "Raw recommendations for Movie ID: 869\n",
      "(708, 'Movie Title 1', 0.89)\n",
      "(712, 'Movie Title 2', 0.85)\n"
     ]
    }
   ],
   "source": [
    "def inspect_recommendations(movie_id, top_n=10):\n",
    "    recommended_movies = get_content_based_recommendations(movie_id, top_n=top_n)\n",
    "    \n",
    "    print(f\"Raw recommendations for Movie ID: {movie_id}\")\n",
    "    for item in recommended_movies:\n",
    "        print(item)\n",
    "\n",
    "# Inspect recommendations for a few movie IDs\n",
    "inspect_recommendations(movie_id=708)  # Replace with a valid movie ID from your dataset\n",
    "inspect_recommendations(movie_id=712)\n",
    "inspect_recommendations(movie_id=869)\n"
   ]
  },
  {
   "cell_type": "code",
   "execution_count": 15,
   "id": "f1d51352-d537-4b04-bc4b-c0028f5d41c8",
   "metadata": {},
   "outputs": [],
   "source": [
    "def get_content_based_recommendations(movie_id, top_n=10):\n",
    "    # Assuming you have some cosine similarity calculation\n",
    "    idx = movie_data[movie_data['id'] == movie_id].index[0]\n",
    "    sim_scores = list(enumerate(cosine_sim[idx]))\n",
    "    \n",
    "    # Sort movies based on the similarity scores\n",
    "    sim_scores = sorted(sim_scores, key=lambda x: x[1], reverse=True)\n",
    "    \n",
    "    # Get the indices of the most similar movies\n",
    "    sim_scores = sim_scores[1:top_n+1]\n",
    "    \n",
    "    # Fetch the movie titles and IDs for the recommendations\n",
    "    movie_indices = [i[0] for i in sim_scores]\n",
    "    movie_ids = movie_data.iloc[movie_indices]['id']\n",
    "    movie_titles = movie_data.iloc[movie_indices]['title']\n",
    "    similarities = [i[1] for i in sim_scores]\n",
    "    \n",
    "    # Return movie IDs, titles, and similarity scores\n",
    "    return list(zip(movie_ids, movie_titles, similarities))\n"
   ]
  },
  {
   "cell_type": "code",
   "execution_count": 16,
   "id": "c71aae30-8a53-400c-bcd9-d6888960d7bb",
   "metadata": {},
   "outputs": [
    {
     "name": "stdout",
     "output_type": "stream",
     "text": [
      "     id                                 title  \\\n",
      "0   708                           Two Friends   \n",
      "1   712  War Stories Our Mother Never Told Us   \n",
      "2   735                 Vermont Is for Lovers   \n",
      "3   869                                Venice   \n",
      "4  1082                         The Sleepover   \n",
      "\n",
      "                                            overview            genres  \n",
      "0  Two Sicilian friends, Nunzio and Pino, share t...  [Drama, Foreign]  \n",
      "1  Seven New Zealand women speak about their live...         [Unknown]  \n",
      "2  Vermont is for Lovers is an independently prod...         [Unknown]  \n",
      "3  An atmospheric coming-of-age story featuring a...  [Romance, Drama]  \n",
      "4  The town of Derry has a secret, but no one tol...  [Comedy, Horror]  \n"
     ]
    }
   ],
   "source": [
    "print(movie_data.head())  # This should display the first few rows of your DataFrame to confirm the content\n"
   ]
  },
  {
   "cell_type": "code",
   "execution_count": 17,
   "id": "d16a0c45-3228-455c-a284-d4e23801f59a",
   "metadata": {},
   "outputs": [],
   "source": [
    "def get_content_based_recommendations(movie_id, top_n=10):\n",
    "    # Find the index of the movie that matches the movie_id\n",
    "    idx = movie_data[movie_data['id'] == movie_id].index[0]\n",
    "    \n",
    "    # Get the pairwise similarity scores of all movies with that movie\n",
    "    sim_scores = list(enumerate(cosine_sim[idx]))\n",
    "    \n",
    "    # Sort the movies based on the similarity scores\n",
    "    sim_scores = sorted(sim_scores, key=lambda x: x[1], reverse=True)\n",
    "    \n",
    "    # Get the scores of the most similar movies\n",
    "    sim_scores = sim_scores[1:top_n+1]\n",
    "    \n",
    "    # Get the movie indices\n",
    "    movie_indices = [i[0] for i in sim_scores]\n",
    "    \n",
    "    # Return the top n most similar movies with their titles and similarity scores\n",
    "    movie_ids = movie_data.iloc[movie_indices]['id']\n",
    "    movie_titles = movie_data.iloc[movie_indices]['title']\n",
    "    similarities = [i[1] for i in sim_scores]\n",
    "    \n",
    "    return list(zip(movie_ids, movie_titles, similarities))\n"
   ]
  },
  {
   "cell_type": "code",
   "execution_count": 18,
   "id": "f2f4e7cd-0039-4c49-83d1-c3736d86e29c",
   "metadata": {},
   "outputs": [
    {
     "name": "stdout",
     "output_type": "stream",
     "text": [
      "Raw recommendations for Movie ID: 708\n",
      "(18800, 'The Day I Was Not Born', 0.7152512779931863)\n",
      "(17546, 'Help Me, Eros', 0.7035222322230169)\n",
      "(6445, 'Seaside', 0.702364254967664)\n",
      "(20384, 'Udaan', 0.6985847075365609)\n",
      "(4257, 'Pandaemonium', 0.6958151035935873)\n",
      "(31238, 'Swimming Upstream', 0.6957417525493255)\n",
      "(30545, 'Rock On!!', 0.6937620665100183)\n",
      "(27773, 'Amador', 0.6918964742329379)\n",
      "(14830, 'Letters to Father Jacob', 0.6896815710535735)\n",
      "(13004, 'The Pool', 0.6888374375626181)\n",
      "Raw recommendations for Movie ID: 712\n",
      "(16087, 'Ten Skies', 0.7071067811865475)\n",
      "(28981, 'WWII IN HD', 0.6345886534938537)\n",
      "(5676, 'The Rising Place', 0.619099773002756)\n",
      "(29877, 'Kokoko', 0.5942586649160204)\n",
      "(36029, 'Liquidation', 0.5818690966283939)\n",
      "(32000, 'The Capsule', 0.5745344499645988)\n",
      "(22739, 'Los rollos perdidos de Pancho Villa', 0.5728044666854295)\n",
      "(15577, 'Love in Another Language', 0.5688343585965738)\n",
      "(34926, 'The Saboteurs', 0.5667821722626579)\n",
      "(22275, \"Moms Mabley: I Got Somethin' to Tell You\", 0.5632470911415941)\n",
      "Raw recommendations for Movie ID: 869\n",
      "(14241, 'An Education', 0.7392963338275252)\n",
      "(11969, 'Wild Tigers I Have Known', 0.7287364499931313)\n",
      "(28979, 'For a Handful of Kisses', 0.7260198567150682)\n",
      "(33248, \"Don't Look Down\", 0.7151128700011715)\n",
      "(22395, 'Only Lovers Left Alive', 0.7150678004424417)\n",
      "(35370, 'Honey and Clover', 0.7141818364163902)\n",
      "(19447, 'The Perks of Being a Wallflower', 0.7112808528728466)\n",
      "(20662, 'A Beautiful Life', 0.7100968498566688)\n",
      "(30363, 'Jess + Moss', 0.7100312917901763)\n",
      "(17136, 'Son of Babylon', 0.7085491914656422)\n"
     ]
    }
   ],
   "source": [
    "inspect_recommendations(movie_id=708)\n",
    "inspect_recommendations(movie_id=712)\n",
    "inspect_recommendations(movie_id=869)\n"
   ]
  },
  {
   "cell_type": "code",
   "execution_count": 22,
   "id": "0677b18b-1fcb-4284-bbf5-40fdac6691d5",
   "metadata": {},
   "outputs": [],
   "source": [
    "def get_content_based_recommendations(movie_id, top_n=10):\n",
    "    # Find the index of the movie that matches the movie_id\n",
    "    matching_movie = movie_data[movie_data['id'] == movie_id]\n",
    "    \n",
    "    if matching_movie.empty:\n",
    "        print(f\"Movie ID {movie_id} not found in the dataset.\")\n",
    "        return []\n",
    "    \n",
    "    idx = matching_movie.index[0]\n",
    "    \n",
    "    # Get the pairwise similarity scores of all movies with that movie\n",
    "    sim_scores = list(enumerate(cosine_sim[idx]))\n",
    "    \n",
    "    # Sort the movies based on the similarity scores\n",
    "    sim_scores = sorted(sim_scores, key=lambda x: x[1], reverse=True)\n",
    "    \n",
    "    # Get the scores of the top n most similar movies\n",
    "    sim_scores = sim_scores[1:top_n+1]\n",
    "    \n",
    "    # Get the movie indices\n",
    "    movie_indices = [i[0] for i in sim_scores]\n",
    "    \n",
    "    # Return the top n most similar movies\n",
    "    return [(movie_data.iloc[i]['id'], movie_data.iloc[i]['title'], sim_scores[idx][1]) for idx, i in enumerate(movie_indices)]\n",
    "\n"
   ]
  },
  {
   "cell_type": "code",
   "execution_count": 24,
   "id": "3ad5d226-e042-4dbb-983d-1af1eb6b5fc5",
   "metadata": {},
   "outputs": [],
   "source": [
    "def evaluate_model(test_data, top_n=10):\n",
    "    precisions = []\n",
    "    recalls = []\n",
    "    \n",
    "    for user_id, actual_likes in test_data.items():\n",
    "        recommendations = get_content_based_recommendations(user_id, top_n=top_n)\n",
    "        recommended_movie_ids = [movie_id for movie_id, _, _ in recommendations]\n",
    "        \n",
    "        if len(recommended_movie_ids) == 0:\n",
    "            print(f\"No recommendations available for Movie ID: {user_id}\")\n",
    "            continue  # Skip to the next user/movie if no recommendations are found\n",
    "        \n",
    "        # Precision and recall\n",
    "        true_positives = len(set(recommended_movie_ids) & set(actual_likes))\n",
    "        \n",
    "        if len(recommended_movie_ids) > 0:\n",
    "            precision = true_positives / len(recommended_movie_ids)\n",
    "        else:\n",
    "            precision = 0\n",
    "        \n",
    "        if len(actual_likes) > 0:\n",
    "            recall = true_positives / len(actual_likes)\n",
    "        else:\n",
    "            recall = 0\n",
    "        \n",
    "        precisions.append(precision)\n",
    "        recalls.append(recall)\n",
    "    \n",
    "    # Calculate average precision and recall\n",
    "    avg_precision = sum(precisions) / len(precisions) if precisions else 0\n",
    "    avg_recall = sum(recalls) / len(recalls) if recalls else 0\n",
    "    \n",
    "    print(f\"Average Precision: {avg_precision:.4f}\")\n",
    "    print(f\"Average Recall: {avg_recall:.4f}\")\n"
   ]
  },
  {
   "cell_type": "code",
   "execution_count": 25,
   "id": "cf13c945-3f5d-4c77-b0e9-cb9e585f2aec",
   "metadata": {},
   "outputs": [
    {
     "name": "stdout",
     "output_type": "stream",
     "text": [
      "Movie ID 1 not found in the dataset.\n",
      "No recommendations available for Movie ID: 1\n",
      "Movie ID 2 not found in the dataset.\n",
      "No recommendations available for Movie ID: 2\n",
      "Average Precision: 0.0000\n",
      "Average Recall: 0.0000\n"
     ]
    }
   ],
   "source": [
    "# Re-run the evaluation with the updated function\n",
    "evaluate_model(test_data)\n"
   ]
  },
  {
   "cell_type": "code",
   "execution_count": 27,
   "id": "367f7137-e69d-475c-804a-69f314b0b140",
   "metadata": {},
   "outputs": [
    {
     "name": "stdout",
     "output_type": "stream",
     "text": [
      "Average Precision: 0.0000\n",
      "Average Recall: 0.0000\n"
     ]
    }
   ],
   "source": [
    "# Assuming the previous steps have been completed and the model has been trained\n",
    "from sklearn.metrics import precision_score, recall_score\n",
    "import numpy as np\n",
    "\n",
    "# Define the test data with valid movie IDs from your dataset\n",
    "test_data = {\n",
    "    36184: [3707, 3630, 869],  # User 36184 likes these movies\n",
    "    3707: [36184, 3630],       # User 3707 likes these movies\n",
    "    3630: [3707, 36184],       # User 3630 likes these movies\n",
    "}\n",
    "\n",
    "# Function to evaluate the content-based recommendation model\n",
    "def evaluate_model(test_data, top_n=20):\n",
    "    precisions = []\n",
    "    recalls = []\n",
    "    \n",
    "    for movie_id, actual_likes in test_data.items():\n",
    "        recommendations = get_content_based_recommendations(movie_id, top_n=top_n)\n",
    "        recommended_movie_ids = [movie_id for movie_id, _, _ in recommendations]\n",
    "        \n",
    "        if not recommended_movie_ids:\n",
    "            print(f\"No recommendations available for Movie ID: {movie_id}\")\n",
    "            continue\n",
    "        \n",
    "        # Precision and recall\n",
    "        true_positives = len(set(recommended_movie_ids) & set(actual_likes))\n",
    "        precision = true_positives / len(recommended_movie_ids) if recommended_movie_ids else 0\n",
    "        recall = true_positives / len(actual_likes) if actual_likes else 0\n",
    "        \n",
    "        precisions.append(precision)\n",
    "        recalls.append(recall)\n",
    "    \n",
    "    # Calculate and print the average precision and recall\n",
    "    average_precision = np.mean(precisions) if precisions else 0\n",
    "    average_recall = np.mean(recalls) if recalls else 0\n",
    "    \n",
    "    print(f\"Average Precision: {average_precision:.4f}\")\n",
    "    print(f\"Average Recall: {average_recall:.4f}\")\n",
    "\n",
    "# Re-run the evaluation with the valid movie IDs\n",
    "evaluate_model(test_data)\n"
   ]
  },
  {
   "cell_type": "code",
   "execution_count": null,
   "id": "dfde8ff4-7175-42bd-b2ab-e637fe31f5de",
   "metadata": {},
   "outputs": [],
   "source": []
  }
 ],
 "metadata": {
  "kernelspec": {
   "display_name": "Python 3 (ipykernel)",
   "language": "python",
   "name": "python3"
  },
  "language_info": {
   "codemirror_mode": {
    "name": "ipython",
    "version": 3
   },
   "file_extension": ".py",
   "mimetype": "text/x-python",
   "name": "python",
   "nbconvert_exporter": "python",
   "pygments_lexer": "ipython3",
   "version": "3.12.2"
  }
 },
 "nbformat": 4,
 "nbformat_minor": 5
}
