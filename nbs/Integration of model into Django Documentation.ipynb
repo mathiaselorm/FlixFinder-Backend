{
 "cells": [
  {
   "cell_type": "markdown",
   "id": "7aa0a487-2949-48fb-a6a2-13570f1651b7",
   "metadata": {},
   "source": [
    "Stage 4: Integration of Model into Django Project\n",
    "Overview\n",
    "This stage focuses on integrating the trained movie recommendation model into the Django project to serve real-time predictions. The integration process involves setting up the Django environment to load and use the machine learning model, creating API endpoints for accessing the recommendation services, and ensuring the system is robust and production-ready.\n",
    "\n",
    "Steps Involved in Integration\n",
    "Model Serialization and Loading\n",
    "\n",
    "Purpose: Serialize the trained model using Pickle to save it as a binary file, which Django can load and use for making predictions. This step is crucial for transitioning from a Jupyter-based model training environment to a production server where Django operates.\n",
    "Implementation:\n",
    "The model was trained in Jupyter Notebook using the Scikit-surprise library.\n",
    "The trained model was serialized using Pickle and saved locally and within Django’s storage system to ensure it can be accessed by the Django application at runtime.\n",
    "Creating Utility Functions in Django\n",
    "\n",
    "Purpose: Develop utility functions within Django to handle tasks like loading the model, fetching the ratings dataset, training the model, and making predictions. These functions facilitate the operationalization of the model within the Django framework.\n",
    "Implementation:\n",
    "A utility module (utils.py) was created to include functions such as load_model(), get_ratings_dataset(), and train_model().\n",
    "These functions were designed to seamlessly integrate with Django’s ORM, allowing for dynamic data fetching and real-time model training.\n",
    "API Development\n",
    "\n",
    "Purpose: Set up REST API endpoints using Django Rest Framework (DRF) to expose the recommendation functionality to the frontend or external systems, allowing for real-time user interactions and predictions.\n",
    "Implementation:\n",
    "Developed two main API views: one for predicting ratings for a specific movie by a user and another for generating top movie recommendations for a user.\n",
    "Utilized @api_view decorators and CSRF exemption to handle API requests effectively and securely.\n",
    "Integrating Prediction Functionality\n",
    "\n",
    "Purpose: Integrate the prediction functionality directly into the Django backend to use the loaded model for making predictions about user preferences on movies.\n",
    "Implementation:\n",
    "Implemented a function within utils.py that loads the trained model and predicts ratings based on user and movie IDs.\n",
    "This function is called by the API endpoints to provide real-time predictions."
   ]
  }
 ],
 "metadata": {
  "kernelspec": {
   "display_name": "Python 3 (ipykernel)",
   "language": "python",
   "name": "python3"
  },
  "language_info": {
   "codemirror_mode": {
    "name": "ipython",
    "version": 3
   },
   "file_extension": ".py",
   "mimetype": "text/x-python",
   "name": "python",
   "nbconvert_exporter": "python",
   "pygments_lexer": "ipython3",
   "version": "3.12.2"
  }
 },
 "nbformat": 4,
 "nbformat_minor": 5
}
