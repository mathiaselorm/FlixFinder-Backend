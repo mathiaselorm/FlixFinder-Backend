{
 "cells": [
  {
   "cell_type": "code",
   "execution_count": 11,
   "id": "d98121bd-859a-4b76-9314-f91b7b7fee0b",
   "metadata": {},
   "outputs": [],
   "source": [
    "import django_jupyter\n",
    "django_jupyter.init()"
   ]
  },
  {
   "cell_type": "code",
   "execution_count": 4,
   "id": "708af1a2-73a2-46eb-9690-e006c3cdc7f4",
   "metadata": {},
   "outputs": [
    {
     "name": "stdout",
     "output_type": "stream",
     "text": [
      "Setup complete.\n"
     ]
    }
   ],
   "source": [
    "# Importing necessary libraries\n",
    "import pandas as pd\n",
    "import numpy as np\n",
    "from surprise import SVD, Dataset, Reader\n",
    "from surprise.model_selection import cross_validate, train_test_split\n",
    "\n",
    "# Setup for notebook\n",
    "import warnings\n",
    "warnings.filterwarnings('ignore')  # Optional: to keep the notebook tidy\n",
    "print(\"Setup complete.\")\n"
   ]
  },
  {
   "cell_type": "code",
   "execution_count": 6,
   "id": "3194ce5a-410f-4524-a8cf-5cae92896cf6",
   "metadata": {},
   "outputs": [],
   "source": [
    "import pandas as pd\n",
    "from django.db.models import F\n",
    "from surprise import Dataset, Reader\n",
    "from surprise.model_selection import train_test_split\n",
    "from ratings.models import Rating  # Adjust this import based on your actual model location\n",
    "\n",
    "# Fetch ratings data directly from the database\n",
    "queryset = Rating.objects.all().values('user', 'movie', 'score')\n",
    "ratings_data = pd.DataFrame(list(queryset))\n",
    "\n",
    "# Define the Reader object with the rating scale, adjust the scale as per your actual data\n",
    "reader = Reader(rating_scale=(0.5, 10))  # Update the scale if your ratings range from 0.5 to 10\n",
    "\n",
    "# Load the data into a Surprise dataset\n",
    "data = Dataset.load_from_df(ratings_data[['user', 'movie', 'score']], reader)\n",
    "\n",
    "# Split the data into training and test sets (e.g., 75% training, 25% testing)\n",
    "trainset, testset = train_test_split(data, test_size=0.25)\n"
   ]
  },
  {
   "cell_type": "code",
   "execution_count": 7,
   "id": "40e4af48-0783-4fc7-9d27-d1bd22266411",
   "metadata": {},
   "outputs": [
    {
     "name": "stdout",
     "output_type": "stream",
     "text": [
      "RMSE: 1.7741\n",
      "MAE:  1.3548\n",
      "Root Mean Squared Error:  1.774072161599227\n",
      "Mean Absolute Error:  1.354769353452336\n"
     ]
    }
   ],
   "source": [
    "from surprise import SVD\n",
    "from surprise.model_selection import cross_validate\n",
    "\n",
    "# Create the SVD algorithm instance\n",
    "algo = SVD()\n",
    "\n",
    "# Train the algorithm on the trainset, and predict ratings for the testset\n",
    "algo.fit(trainset)\n",
    "\n",
    "# Predict ratings for the testset\n",
    "predictions = algo.test(testset)\n",
    "\n",
    "# Compute and print Root Mean Squared Error and Mean Absolute Error\n",
    "from surprise import accuracy\n",
    "rmse = accuracy.rmse(predictions)\n",
    "mae = accuracy.mae(predictions)\n",
    "\n",
    "print(\"Root Mean Squared Error: \", rmse)\n",
    "print(\"Mean Absolute Error: \", mae)\n"
   ]
  },
  {
   "cell_type": "code",
   "execution_count": 8,
   "id": "7d37f44f-5bea-4bcc-8222-a5a27fe82ff1",
   "metadata": {},
   "outputs": [
    {
     "name": "stdout",
     "output_type": "stream",
     "text": [
      "Best RMSE score attained:  1.7590541649503455\n",
      "Parameters that gave the best RMSE score:  {'n_epochs': 20, 'lr_all': 0.005, 'reg_all': 0.1}\n"
     ]
    },
    {
     "data": {
      "text/plain": [
       "<surprise.prediction_algorithms.matrix_factorization.SVD at 0x162bc139d60>"
      ]
     },
     "execution_count": 8,
     "metadata": {},
     "output_type": "execute_result"
    }
   ],
   "source": [
    "from surprise import SVD\n",
    "from surprise.model_selection import GridSearchCV\n",
    "\n",
    "param_grid = {\n",
    "    'n_epochs': [5, 10, 20], \n",
    "    'lr_all': [0.002, 0.005],\n",
    "    'reg_all': [0.02, 0.1]\n",
    "}\n",
    "gs = GridSearchCV(SVD, param_grid, measures=['rmse', 'mae'], cv=3)\n",
    "\n",
    "gs.fit(data)\n",
    "\n",
    "# best RMSE score\n",
    "print(\"Best RMSE score attained: \", gs.best_score['rmse'])\n",
    "\n",
    "# combination of parameters that gave the best RMSE score\n",
    "print(\"Parameters that gave the best RMSE score: \", gs.best_params['rmse'])\n",
    "\n",
    "# Use the best algorithm as final algorithm\n",
    "algo = gs.best_estimator['rmse']\n",
    "algo.fit(data.build_full_trainset())\n"
   ]
  },
  {
   "cell_type": "code",
   "execution_count": 9,
   "id": "b4f34d0e-83be-4085-9d9b-64b1c49d7171",
   "metadata": {},
   "outputs": [
    {
     "name": "stdout",
     "output_type": "stream",
     "text": [
      "Model saved successfully!\n"
     ]
    }
   ],
   "source": [
    "import os\n",
    "import surprise\n",
    "\n",
    "# Save the trained algorithm\n",
    "file_name = os.path.expanduser('~/trained_model.dump')\n",
    "surprise.dump.dump(file_name, algo=algo)\n",
    "\n",
    "print(\"Model saved successfully!\")\n"
   ]
  },
  {
   "cell_type": "code",
   "execution_count": 13,
   "id": "92d88385-267e-4126-b840-e7fb9df8fb5d",
   "metadata": {},
   "outputs": [
    {
     "name": "stdout",
     "output_type": "stream",
     "text": [
      "   user_id  movie_id rating\n",
      "0        4      2114   10.0\n",
      "1        4      3060   10.0\n",
      "2        4      3071    8.0\n",
      "3        4      3169    8.0\n",
      "4        4      3208    4.0\n"
     ]
    }
   ],
   "source": [
    "# Fetch data from the Rating model\n",
    "ratings_data = Rating.objects.all().values_list('user_id', 'movie_id', 'score')\n",
    "\n",
    "# Convert to DataFrame\n",
    "df = pd.DataFrame(list(ratings_data), columns=['user_id', 'movie_id', 'rating'])\n",
    "\n",
    "# Confirm that data is loaded\n",
    "print(df.head())"
   ]
  },
  {
   "cell_type": "code",
   "execution_count": 17,
   "id": "c6edda31-2d56-4e09-8e04-dcaa56933483",
   "metadata": {},
   "outputs": [
    {
     "name": "stdout",
     "output_type": "stream",
     "text": [
      "user: 4275       item: 3071       r_ui = 3.20   est = 6.86   {'was_impossible': False}\n",
      "Predicted rating: 6.858483314337212\n"
     ]
    }
   ],
   "source": [
    "import os\n",
    "from surprise import dump\n",
    "\n",
    "# Load the trained SVD model\n",
    "file_name = os.path.expanduser('~/trained_model.dump')\n",
    "_, loaded_algo = dump.load(file_name)\n",
    "\n",
    "# Now you can use loaded_algo to make predictions\n",
    "user_id = str(4275)  # Surprise expects raw user ids to be string\n",
    "movie_id = str(3071)  # Surprise expects raw item ids to be string\n",
    "actual_rating = 3.2  # Example of an actual rating\n",
    "\n",
    "# Make prediction\n",
    "pred = loaded_algo.predict(user_id, movie_id, r_ui=actual_rating, verbose=True)\n",
    "print(f'Predicted rating: {pred.est}')\n"
   ]
  },
  {
   "cell_type": "code",
   "execution_count": 20,
   "id": "513ecb92-1b65-4be4-810b-4f7f1b0f5d8c",
   "metadata": {},
   "outputs": [
    {
     "name": "stdout",
     "output_type": "stream",
     "text": [
      "Best RMSE score attained:  1.7459636750485765\n",
      "Parameters that gave the best RMSE score:  {'n_epochs': 20, 'lr_all': 0.01, 'reg_all': 0.2}\n"
     ]
    }
   ],
   "source": [
    "from surprise import SVD\n",
    "from surprise import Dataset\n",
    "from surprise import Reader\n",
    "from surprise.model_selection import GridSearchCV\n",
    "import pandas as pd\n",
    "\n",
    "\n",
    "# Load the dataset\n",
    "reader = Reader(rating_scale=(1, 10))\n",
    "data = Dataset.load_from_df(df[['user_id', 'movie_id', 'rating']], reader)\n",
    "\n",
    "\n",
    "# Set the parameter grid for SVD\n",
    "param_grid = {\n",
    "    'n_epochs': [5, 10, 20],  # Number of epochs\n",
    "    'lr_all': [0.002, 0.005, 0.01],  # Learning rate\n",
    "    'reg_all': [0.02, 0.1, 0.2]  # Regularization term\n",
    "}\n",
    "\n",
    "\n",
    "# Setup GridSearchCV\n",
    "gs = GridSearchCV(SVD, param_grid, measures=['rmse', 'mae'], cv=3)\n",
    "\n",
    "\n",
    "# Perform grid search\n",
    "gs.fit(data)\n",
    "\n",
    "\n",
    "# Best RMSE score\n",
    "print(\"Best RMSE score attained: \", gs.best_score['rmse'])\n",
    "\n",
    "# Combination of parameters that gave the best RMSE score\n",
    "print(\"Parameters that gave the best RMSE score: \", gs.best_params['rmse'])\n"
   ]
  },
  {
   "cell_type": "code",
   "execution_count": 21,
   "id": "9a913781-ff84-4071-b7fd-8ef4a01ce580",
   "metadata": {},
   "outputs": [
    {
     "data": {
      "text/plain": [
       "<surprise.prediction_algorithms.matrix_factorization.SVD at 0x162b5404320>"
      ]
     },
     "execution_count": 21,
     "metadata": {},
     "output_type": "execute_result"
    }
   ],
   "source": [
    "from surprise import SVD, Dataset, Reader\n",
    "from surprise.model_selection import train_test_split\n",
    "from surprise.accuracy import rmse, mae\n",
    "\n",
    "# Assuming you have a DataFrame 'df' with columns ['user_id', 'movie_id', 'rating']\n",
    "reader = Reader(rating_scale=(1, 10))\n",
    "data = Dataset.load_from_df(df[['user_id', 'movie_id', 'rating']], reader)\n",
    "trainset = data.build_full_trainset()\n",
    "\n",
    "# Create the SVD algorithm with optimized parameters\n",
    "algo = SVD(n_epochs=20, lr_all=0.01, reg_all=0.2)\n",
    "\n",
    "# Train the model\n",
    "algo.fit(trainset)\n"
   ]
  },
  {
   "cell_type": "code",
   "execution_count": 22,
   "id": "60a950b8-7daf-4833-b77a-197d1a75e16c",
   "metadata": {},
   "outputs": [
    {
     "name": "stdout",
     "output_type": "stream",
     "text": [
      "Optimized model saved successfully!\n"
     ]
    }
   ],
   "source": [
    "import os\n",
    "import surprise\n",
    "\n",
    "# Save the trained algorithm\n",
    "file_name = os.path.expanduser('~/trained_model_optimized.dump')\n",
    "surprise.dump.dump(file_name, algo=algo)\n",
    "\n",
    "print(\"Optimized model saved successfully!\")\n"
   ]
  },
  {
   "cell_type": "code",
   "execution_count": 23,
   "id": "3deaf71b-e588-4c55-8d6e-80d4b9db7966",
   "metadata": {},
   "outputs": [
    {
     "name": "stdout",
     "output_type": "stream",
     "text": [
      "RMSE: 1.1460\n",
      "RMSE:  1.1460007892671162\n",
      "MAE:  0.8934\n",
      "MAE:  0.8933818852879325\n"
     ]
    }
   ],
   "source": [
    "import pandas as pd\n",
    "from django.db import connection\n",
    "from surprise import Dataset, Reader, dump\n",
    "from surprise.model_selection import train_test_split\n",
    "from surprise.accuracy import rmse, mae\n",
    "\n",
    "# Define a function to fetch data from the database\n",
    "def fetch_ratings():\n",
    "    with connection.cursor() as cursor:\n",
    "        cursor.execute(\"SELECT user_id, movie_id, score FROM ratings_rating\")\n",
    "        result = cursor.fetchall()\n",
    "        return pd.DataFrame(result, columns=['user_id', 'movie_id', 'rating'])\n",
    "\n",
    "# Fetch the data\n",
    "ratings_df = fetch_ratings()\n",
    "\n",
    "# Define the reader with the rating scale\n",
    "reader = Reader(rating_scale=(1, 10))  # adjust the scale if your ratings differ\n",
    "\n",
    "# Load the dataset from the DataFrame\n",
    "data = Dataset.load_from_df(ratings_df, reader)\n",
    "\n",
    "# Split the dataset into training and test set (use 20% for testing)\n",
    "trainset, testset = train_test_split(data, test_size=0.2)\n",
    "\n",
    "# Load the optimized model\n",
    "file_name = os.path.expanduser('~/trained_model_optimized.dump')\n",
    "_, loaded_algo = dump.load(file_name)\n",
    "\n",
    "# Use the algorithm to make predictions on the test set\n",
    "predictions = loaded_algo.test(testset)\n",
    "\n",
    "# Calculate and print the accuracy measures\n",
    "print(\"RMSE: \", rmse(predictions))\n",
    "print(\"MAE: \", mae(predictions))\n"
   ]
  },
  {
   "cell_type": "code",
   "execution_count": 24,
   "id": "a699314e-ac0e-486a-9ca3-97e40a8d52cd",
   "metadata": {},
   "outputs": [
    {
     "name": "stdout",
     "output_type": "stream",
     "text": [
      "Evaluating RMSE, MAE of algorithm SVD on 5 split(s).\n",
      "\n",
      "                  Fold 1  Fold 2  Fold 3  Fold 4  Fold 5  Mean    Std     \n",
      "RMSE (testset)    1.6910  1.7430  1.7443  1.7451  1.7350  1.7317  0.0207  \n",
      "MAE (testset)     1.2989  1.3326  1.3313  1.3317  1.3194  1.3228  0.0129  \n",
      "Fit time          0.53    0.48    0.61    0.50    0.50    0.52    0.05    \n",
      "Test time         0.06    0.05    0.55    0.05    0.05    0.15    0.20    \n",
      "Average RMSE: 1.7316875302698471\n",
      "Average MAE: 1.3227918379183579\n"
     ]
    }
   ],
   "source": [
    "from surprise import SVD\n",
    "from surprise.model_selection import cross_validate\n",
    "from surprise import Dataset\n",
    "from surprise import Reader\n",
    "\n",
    "# Assume you have a DataFrame 'df' with user ratings\n",
    "# Ensure df columns are named appropriately for Surprise to process\n",
    "reader = Reader(rating_scale=(1, 10))  # Adjust rating_scale to match your dataset\n",
    "data = Dataset.load_from_df(df[['user_id', 'movie_id', 'rating']], reader)\n",
    "\n",
    "# Define the SVD algorithm with optimized parameters\n",
    "algo = SVD(n_epochs=20, lr_all=0.01, reg_all=0.2)\n",
    "\n",
    "# Perform cross-validation\n",
    "cross_val_results = cross_validate(algo, data, measures=['RMSE', 'MAE'], cv=5, verbose=True)\n",
    "\n",
    "# Print out the average RMSE and MAE across all folds\n",
    "print(f\"Average RMSE: {np.mean(cross_val_results['test_rmse'])}\")\n",
    "print(f\"Average MAE: {np.mean(cross_val_results['test_mae'])}\")\n"
   ]
  },
  {
   "cell_type": "code",
   "execution_count": 25,
   "id": "b89ef229-3a3e-408b-a0bb-f4db11fc6196",
   "metadata": {},
   "outputs": [
    {
     "name": "stdout",
     "output_type": "stream",
     "text": [
      "Existing user ID sample: 4387\n",
      "Existing movie ID sample: 3475\n",
      "New user ID for testing: 5630\n",
      "New movie ID for testing: 36084\n"
     ]
    }
   ],
   "source": [
    "import pandas as pd\n",
    "\n",
    "# Assuming df is your DataFrame containing user and movie ratings\n",
    "print(\"Existing user ID sample:\", df['user_id'].sample(1).iloc[0])\n",
    "print(\"Existing movie ID sample:\", df['movie_id'].sample(1).iloc[0])\n",
    "\n",
    "# Generate synthetic new user and movie IDs\n",
    "new_user_id = df['user_id'].max() + 1\n",
    "new_movie_id = df['movie_id'].max() + 1\n",
    "\n",
    "print(\"New user ID for testing:\", new_user_id)\n",
    "print(\"New movie ID for testing:\", new_movie_id)\n"
   ]
  },
  {
   "cell_type": "code",
   "execution_count": 26,
   "id": "32a6d1f5-0ed0-4d10-90ef-886998d327f1",
   "metadata": {},
   "outputs": [
    {
     "name": "stdout",
     "output_type": "stream",
     "text": [
      "user: 5630       item: 36084      r_ui = 10.00   est = 6.86   {'was_impossible': False}\n",
      "Predicted rating for user 5630, item 36084: 6.860148432840766\n",
      "user: 5630       item: 36084      r_ui = 1.00   est = 6.86   {'was_impossible': False}\n",
      "Predicted rating for user 5630, item 36084: 6.860148432840766\n",
      "user: 4387       item: 36084      r_ui = 5.00   est = 6.96   {'was_impossible': False}\n",
      "Predicted rating for user 4387, item 36084: 6.95976035583924\n",
      "user: 5630       item: 3475       r_ui = 5.00   est = 7.34   {'was_impossible': False}\n",
      "Predicted rating for user 5630, item 3475: 7.341403597402606\n"
     ]
    }
   ],
   "source": [
    "# Assuming 'algo' is your trained model loaded and ready for predictions\n",
    "# Test with edge cases:\n",
    "test_cases = [\n",
    "    (5630, 36084, 10.0),  # High rating\n",
    "    (5630, 36084, 1.0),   # Low rating\n",
    "    (4387, 36084, 5.0),  # New movie\n",
    "    (5630, 3475, 5.0)   # New user\n",
    "]\n",
    "\n",
    "for user, item, actual_rating in test_cases:\n",
    "    # We use 'predict' because there might not be actual ratings for these combinations\n",
    "    prediction = algo.predict(user, item, r_ui=actual_rating, verbose=True)\n",
    "    print(f\"Predicted rating for user {user}, item {item}: {prediction.est}\")\n"
   ]
  },
  {
   "cell_type": "code",
   "execution_count": null,
   "id": "ab23cf19-057d-43ab-9360-d47acbb9c0a8",
   "metadata": {},
   "outputs": [],
   "source": []
  }
 ],
 "metadata": {
  "kernelspec": {
   "display_name": "Python 3 (ipykernel)",
   "language": "python",
   "name": "python3"
  },
  "language_info": {
   "codemirror_mode": {
    "name": "ipython",
    "version": 3
   },
   "file_extension": ".py",
   "mimetype": "text/x-python",
   "name": "python",
   "nbconvert_exporter": "python",
   "pygments_lexer": "ipython3",
   "version": "3.12.2"
  }
 },
 "nbformat": 4,
 "nbformat_minor": 5
}
