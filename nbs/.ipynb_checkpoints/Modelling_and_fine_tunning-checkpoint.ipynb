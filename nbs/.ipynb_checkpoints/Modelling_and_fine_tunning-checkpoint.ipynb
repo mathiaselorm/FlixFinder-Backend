{
 "cells": [
  {
   "cell_type": "code",
   "execution_count": 1,
   "id": "d98121bd-859a-4b76-9314-f91b7b7fee0b",
   "metadata": {},
   "outputs": [],
   "source": [
    "import django_jupyter\n",
    "django_jupyter.init()"
   ]
  },
  {
   "cell_type": "code",
   "execution_count": null,
   "id": "708af1a2-73a2-46eb-9690-e006c3cdc7f4",
   "metadata": {},
   "outputs": [],
   "source": []
  }
 ],
 "metadata": {
  "kernelspec": {
   "display_name": "Python 3 (ipykernel)",
   "language": "python",
   "name": "python3"
  },
  "language_info": {
   "codemirror_mode": {
    "name": "ipython",
    "version": 3
   },
   "file_extension": ".py",
   "mimetype": "text/x-python",
   "name": "python",
   "nbconvert_exporter": "python",
   "pygments_lexer": "ipython3",
   "version": "3.12.2"
  }
 },
 "nbformat": 4,
 "nbformat_minor": 5
}
