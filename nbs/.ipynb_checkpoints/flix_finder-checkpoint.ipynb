{
 "cells": [
  {
   "cell_type": "code",
   "execution_count": 4,
   "id": "3cf15292-c017-4f39-bcb6-6c670b08fb8c",
   "metadata": {},
   "outputs": [],
   "source": [
    "import django_jupyter\n",
    "django_jupyter.init()"
   ]
  },
  {
   "cell_type": "code",
   "execution_count": 5,
   "id": "cdf88830-c78a-4ccb-ae04-ca3b487a77bd",
   "metadata": {},
   "outputs": [],
   "source": [
    "from movies.models import Movie\n",
    "from ratings.models import Rating"
   ]
  },
  {
   "cell_type": "markdown",
   "id": "6a88b497-5422-45e4-92ba-a4cadebb3225",
   "metadata": {},
   "source": [
    "#### Fetch Movies and Ratings Data\n",
    "\n",
    "We'll retrieve all movies along with their associated genres and ratings. \n",
    "This will give us a comprehensive dataset to start building our recommendation system."
   ]
  },
  {
   "cell_type": "code",
   "execution_count": 31,
   "id": "c57508cc-611c-481e-a956-3c45aef47481",
   "metadata": {},
   "outputs": [
    {
     "name": "stdout",
     "output_type": "stream",
     "text": [
      "     id                 title  \\\n",
      "0   708           Two Friends   \n",
      "1  1082         The Sleepover   \n",
      "2  2564  A Place at the Table   \n",
      "3  4713    The Learning Curve   \n",
      "4  5495         Bloody Sunday   \n",
      "\n",
      "                                            overview  \\\n",
      "0  Two Sicilian friends, Nunzio and Pino, share t...   \n",
      "1  The town of Derry has a secret, but no one tol...   \n",
      "2  Using personal stories, this powerful document...   \n",
      "3  Paul and Georgia are lovers, soul mates...and ...   \n",
      "4  The dramatised story of the Irish civil rights...   \n",
      "\n",
      "                                genres average_rating  \n",
      "0                     [Drama, Foreign]           5.64  \n",
      "1                     [Comedy, Horror]           6.49  \n",
      "2                        [Documentary]           6.72  \n",
      "3             [Drama, Crime, Thriller]           5.03  \n",
      "4  [Adventure, Drama, Action, History]           7.35  \n"
     ]
    }
   ],
   "source": [
    "# Modify the data fetching code to include overviews\n",
    "movies_qs = Movie.objects.all().prefetch_related('genres')\n",
    "movies_data = [\n",
    "    {\n",
    "        \"id\": movie.id,\n",
    "        \"title\": movie.title,\n",
    "        \"overview\": movie.overview,\n",
    "        \"genres\": [genre.name for genre in movie.genres.all()],\n",
    "        \"average_rating\": movie.average_rating\n",
    "    }\n",
    "    for movie in movies_qs\n",
    "]\n",
    "\n",
    "movies_df = pd.DataFrame(movies_data)\n",
    "\n",
    "# Display the updated DataFrame to verify the inclusion of overviews\n",
    "print(movies_df.head())\n"
   ]
  },
  {
   "cell_type": "markdown",
   "id": "dfc9676c-6bcd-402f-aaef-5d072aea90a4",
   "metadata": {},
   "source": [
    "#### Data Cleaning\n",
    "\n",
    "Now, let's ensure there are no missing values in critical columns, especially in the genres column, since it's essential for content-based filtering. \n",
    "We'll also check for any anomalies in the average_rating."
   ]
  },
  {
   "cell_type": "code",
   "execution_count": 9,
   "id": "707fea31-1b63-4872-bc5c-21d2b60e6b51",
   "metadata": {},
   "outputs": [
    {
     "name": "stdout",
     "output_type": "stream",
     "text": [
      "Missing values before cleanup:\n",
      "id                0\n",
      "title             0\n",
      "overview          0\n",
      "genres            0\n",
      "average_rating    0\n",
      "dtype: int64\n",
      "Missing values after cleanup:\n",
      "id                0\n",
      "title             0\n",
      "overview          0\n",
      "genres            0\n",
      "average_rating    0\n",
      "dtype: int64\n",
      "     id                 title  \\\n",
      "0   708           Two Friends   \n",
      "1  1082         The Sleepover   \n",
      "2  2564  A Place at the Table   \n",
      "3  4713    The Learning Curve   \n",
      "4  5495         Bloody Sunday   \n",
      "\n",
      "                                            overview  \\\n",
      "0  Two Sicilian friends, Nunzio and Pino, share t...   \n",
      "1  The town of Derry has a secret, but no one tol...   \n",
      "2  Using personal stories, this powerful document...   \n",
      "3  Paul and Georgia are lovers, soul mates...and ...   \n",
      "4  The dramatised story of the Irish civil rights...   \n",
      "\n",
      "                                genres average_rating  \n",
      "0                     [Drama, Foreign]           5.64  \n",
      "1                     [Comedy, Horror]           6.49  \n",
      "2                        [Documentary]           6.72  \n",
      "3             [Drama, Crime, Thriller]           5.03  \n",
      "4  [Adventure, Drama, Action, History]           7.35  \n"
     ]
    }
   ],
   "source": [
    "# Check for missing values in the DataFrame\n",
    "print(\"Missing values before cleanup:\")\n",
    "print(movies_df.isnull().sum())\n",
    "\n",
    "# Drop rows where genres are missing or empty (if any)\n",
    "movies_df.dropna(subset=['genres'], inplace=True)\n",
    "movies_df = movies_df[movies_df['genres'].map(len) > 0]\n",
    "\n",
    "# Drop rows where overviews are missing or empty (if any)\n",
    "movies_df.dropna(subset=['overview'], inplace=True)\n",
    "movies_df = movies_df[movies_df['overview'].str.strip() != '']\n",
    "\n",
    "# Fill missing average ratings with the mean (or a suitable default like 0)\n",
    "if movies_df['average_rating'].isnull().any():\n",
    "    default_rating = movies_df['average_rating'].mean()\n",
    "    movies_df['average_rating'].fillna(default_rating, inplace=True)\n",
    "\n",
    "# Check for missing values after cleanup\n",
    "print(\"Missing values after cleanup:\")\n",
    "print(movies_df.isnull().sum())\n",
    "\n",
    "# Display the cleaned DataFrame\n",
    "print(movies_df.head())\n"
   ]
  },
  {
   "cell_type": "markdown",
   "id": "688c3079-9e9a-46a7-9b86-5e7fc9d5fad4",
   "metadata": {},
   "source": [
    "#### Feature Engineering\n",
    "\n",
    "Next, we'll convert the genres from lists to a format that can be used in machine learning models. \n",
    "One-hot encoding is an effective method for this, as it transforms each genre into a binary column, indicating the presence or absence of each genre for a movie."
   ]
  },
  {
   "cell_type": "code",
   "execution_count": 30,
   "id": "124067ff-d902-4fc9-ae34-16d02445f44b",
   "metadata": {},
   "outputs": [
    {
     "ename": "KeyError",
     "evalue": "'overview'",
     "output_type": "error",
     "traceback": [
      "\u001b[1;31m---------------------------------------------------------------------------\u001b[0m",
      "\u001b[1;31mKeyError\u001b[0m                                  Traceback (most recent call last)",
      "File \u001b[1;32m~\\Documents\\GitHub\\Flix\\venv\\Lib\\site-packages\\pandas\\core\\indexes\\base.py:3805\u001b[0m, in \u001b[0;36mIndex.get_loc\u001b[1;34m(self, key)\u001b[0m\n\u001b[0;32m   3804\u001b[0m \u001b[38;5;28;01mtry\u001b[39;00m:\n\u001b[1;32m-> 3805\u001b[0m     \u001b[38;5;28;01mreturn\u001b[39;00m \u001b[38;5;28;43mself\u001b[39;49m\u001b[38;5;241;43m.\u001b[39;49m\u001b[43m_engine\u001b[49m\u001b[38;5;241;43m.\u001b[39;49m\u001b[43mget_loc\u001b[49m\u001b[43m(\u001b[49m\u001b[43mcasted_key\u001b[49m\u001b[43m)\u001b[49m\n\u001b[0;32m   3806\u001b[0m \u001b[38;5;28;01mexcept\u001b[39;00m \u001b[38;5;167;01mKeyError\u001b[39;00m \u001b[38;5;28;01mas\u001b[39;00m err:\n",
      "File \u001b[1;32mindex.pyx:167\u001b[0m, in \u001b[0;36mpandas._libs.index.IndexEngine.get_loc\u001b[1;34m()\u001b[0m\n",
      "File \u001b[1;32mindex.pyx:191\u001b[0m, in \u001b[0;36mpandas._libs.index.IndexEngine.get_loc\u001b[1;34m()\u001b[0m\n",
      "File \u001b[1;32mindex.pyx:234\u001b[0m, in \u001b[0;36mpandas._libs.index.IndexEngine._get_loc_duplicates\u001b[1;34m()\u001b[0m\n",
      "File \u001b[1;32mindex.pyx:242\u001b[0m, in \u001b[0;36mpandas._libs.index.IndexEngine._maybe_get_bool_indexer\u001b[1;34m()\u001b[0m\n",
      "File \u001b[1;32mindex.pyx:134\u001b[0m, in \u001b[0;36mpandas._libs.index._unpack_bool_indexer\u001b[1;34m()\u001b[0m\n",
      "\u001b[1;31mKeyError\u001b[0m: 'overview'",
      "\nThe above exception was the direct cause of the following exception:\n",
      "\u001b[1;31mKeyError\u001b[0m                                  Traceback (most recent call last)",
      "Cell \u001b[1;32mIn[30], line 9\u001b[0m\n\u001b[0;32m      6\u001b[0m movies_df[\u001b[38;5;124m'\u001b[39m\u001b[38;5;124maverage_rating\u001b[39m\u001b[38;5;124m'\u001b[39m] \u001b[38;5;241m=\u001b[39m pd\u001b[38;5;241m.\u001b[39mto_numeric(movies_df[\u001b[38;5;124m'\u001b[39m\u001b[38;5;124maverage_rating\u001b[39m\u001b[38;5;124m'\u001b[39m], errors\u001b[38;5;241m=\u001b[39m\u001b[38;5;124m'\u001b[39m\u001b[38;5;124mcoerce\u001b[39m\u001b[38;5;124m'\u001b[39m)\n\u001b[0;32m      8\u001b[0m \u001b[38;5;66;03m# Fill NaN values in 'overview' with empty strings\u001b[39;00m\n\u001b[1;32m----> 9\u001b[0m movies_df[\u001b[38;5;124m'\u001b[39m\u001b[38;5;124moverview\u001b[39m\u001b[38;5;124m'\u001b[39m] \u001b[38;5;241m=\u001b[39m \u001b[43mmovies_df\u001b[49m\u001b[43m[\u001b[49m\u001b[38;5;124;43m'\u001b[39;49m\u001b[38;5;124;43moverview\u001b[39;49m\u001b[38;5;124;43m'\u001b[39;49m\u001b[43m]\u001b[49m\u001b[38;5;241m.\u001b[39mfillna(\u001b[38;5;124m'\u001b[39m\u001b[38;5;124m'\u001b[39m)\n\u001b[0;32m     11\u001b[0m \u001b[38;5;66;03m# Initialize the MultiLabelBinarizer for genres\u001b[39;00m\n\u001b[0;32m     12\u001b[0m mlb \u001b[38;5;241m=\u001b[39m MultiLabelBinarizer()\n",
      "File \u001b[1;32m~\\Documents\\GitHub\\Flix\\venv\\Lib\\site-packages\\pandas\\core\\frame.py:4102\u001b[0m, in \u001b[0;36mDataFrame.__getitem__\u001b[1;34m(self, key)\u001b[0m\n\u001b[0;32m   4100\u001b[0m \u001b[38;5;28;01mif\u001b[39;00m \u001b[38;5;28mself\u001b[39m\u001b[38;5;241m.\u001b[39mcolumns\u001b[38;5;241m.\u001b[39mnlevels \u001b[38;5;241m>\u001b[39m \u001b[38;5;241m1\u001b[39m:\n\u001b[0;32m   4101\u001b[0m     \u001b[38;5;28;01mreturn\u001b[39;00m \u001b[38;5;28mself\u001b[39m\u001b[38;5;241m.\u001b[39m_getitem_multilevel(key)\n\u001b[1;32m-> 4102\u001b[0m indexer \u001b[38;5;241m=\u001b[39m \u001b[38;5;28;43mself\u001b[39;49m\u001b[38;5;241;43m.\u001b[39;49m\u001b[43mcolumns\u001b[49m\u001b[38;5;241;43m.\u001b[39;49m\u001b[43mget_loc\u001b[49m\u001b[43m(\u001b[49m\u001b[43mkey\u001b[49m\u001b[43m)\u001b[49m\n\u001b[0;32m   4103\u001b[0m \u001b[38;5;28;01mif\u001b[39;00m is_integer(indexer):\n\u001b[0;32m   4104\u001b[0m     indexer \u001b[38;5;241m=\u001b[39m [indexer]\n",
      "File \u001b[1;32m~\\Documents\\GitHub\\Flix\\venv\\Lib\\site-packages\\pandas\\core\\indexes\\base.py:3812\u001b[0m, in \u001b[0;36mIndex.get_loc\u001b[1;34m(self, key)\u001b[0m\n\u001b[0;32m   3807\u001b[0m     \u001b[38;5;28;01mif\u001b[39;00m \u001b[38;5;28misinstance\u001b[39m(casted_key, \u001b[38;5;28mslice\u001b[39m) \u001b[38;5;129;01mor\u001b[39;00m (\n\u001b[0;32m   3808\u001b[0m         \u001b[38;5;28misinstance\u001b[39m(casted_key, abc\u001b[38;5;241m.\u001b[39mIterable)\n\u001b[0;32m   3809\u001b[0m         \u001b[38;5;129;01mand\u001b[39;00m \u001b[38;5;28many\u001b[39m(\u001b[38;5;28misinstance\u001b[39m(x, \u001b[38;5;28mslice\u001b[39m) \u001b[38;5;28;01mfor\u001b[39;00m x \u001b[38;5;129;01min\u001b[39;00m casted_key)\n\u001b[0;32m   3810\u001b[0m     ):\n\u001b[0;32m   3811\u001b[0m         \u001b[38;5;28;01mraise\u001b[39;00m InvalidIndexError(key)\n\u001b[1;32m-> 3812\u001b[0m     \u001b[38;5;28;01mraise\u001b[39;00m \u001b[38;5;167;01mKeyError\u001b[39;00m(key) \u001b[38;5;28;01mfrom\u001b[39;00m \u001b[38;5;21;01merr\u001b[39;00m\n\u001b[0;32m   3813\u001b[0m \u001b[38;5;28;01mexcept\u001b[39;00m \u001b[38;5;167;01mTypeError\u001b[39;00m:\n\u001b[0;32m   3814\u001b[0m     \u001b[38;5;66;03m# If we have a listlike key, _check_indexing_error will raise\u001b[39;00m\n\u001b[0;32m   3815\u001b[0m     \u001b[38;5;66;03m#  InvalidIndexError. Otherwise we fall through and re-raise\u001b[39;00m\n\u001b[0;32m   3816\u001b[0m     \u001b[38;5;66;03m#  the TypeError.\u001b[39;00m\n\u001b[0;32m   3817\u001b[0m     \u001b[38;5;28mself\u001b[39m\u001b[38;5;241m.\u001b[39m_check_indexing_error(key)\n",
      "\u001b[1;31mKeyError\u001b[0m: 'overview'"
     ]
    }
   ],
   "source": [
    "import pandas as pd\n",
    "from sklearn.preprocessing import MultiLabelBinarizer\n",
    "from sklearn.feature_extraction.text import TfidfVectorizer\n",
    "\n",
    "# Ensure average_rating is a float\n",
    "movies_df['average_rating'] = pd.to_numeric(movies_df['average_rating'], errors='coerce')\n",
    "\n",
    "# Fill NaN values in 'overview' with empty strings\n",
    "movies_df['overview'] = movies_df['overview'].fillna('')\n",
    "\n",
    "# Initialize the MultiLabelBinarizer for genres\n",
    "mlb = MultiLabelBinarizer()\n",
    "genres_encoded = mlb.fit_transform(movies_df['genres'])\n",
    "genres_df = pd.DataFrame(genres_encoded, columns=mlb.classes_, index=movies_df.index)\n",
    "\n",
    "# Initialize the TfidfVectorizer for movie descriptions\n",
    "tfidf = TfidfVectorizer(stop_words='english', max_features=5000)\n",
    "overview_tfidf = tfidf.fit_transform(movies_df['overview'])\n",
    "\n",
    "# Convert the TF-IDF results to a DataFrame\n",
    "overview_tfidf_df = pd.DataFrame(overview_tfidf.toarray(), columns=tfidf.get_feature_names_out(), index=movies_df.index)\n",
    "\n",
    "# Concatenate all data into the original DataFrame\n",
    "movies_df = pd.concat([movies_df.drop(['genres', 'overview'], axis=1), genres_df, overview_tfidf_df], axis=1)\n",
    "\n",
    "# Display the updated DataFrame with encoded genres and processed descriptions\n",
    "print(movies_df.head())\n"
   ]
  },
  {
   "cell_type": "markdown",
   "id": "4b50f898-172f-449c-9fbd-9b10201e30e6",
   "metadata": {},
   "source": [
    "#### Building the Similarity Model\n",
    "\n",
    "Now that we have our feature-engineered dataset, the next step is to compute similarity scores between movies. We'll use cosine similarity, which is effective for measuring the similarity between two non-zero vectors in a multi-dimensional space (like our genres and TF-IDF vectors).\n",
    "\n",
    "Here’s what we’ll do:\n",
    "\n",
    "1. Combine Genre and Overview Features: Since we have features from genres and overviews, we need to combine these into a single matrix that represents all features of a movie.\n",
    "2. Compute Cosine Similarity: We'll calculate the cosine similarity between every pair of movies based on their combined feature set. This will give us a similarity matrix.\n",
    "3. Create a Recommendation Function: This function will use the similarity matrix to find and recommend the most similar movies based on a given movie input."
   ]
  },
  {
   "cell_type": "code",
   "execution_count": 11,
   "id": "7ecdef3a-6607-4776-b1e7-ab39d99f7bd3",
   "metadata": {},
   "outputs": [
    {
     "name": "stdout",
     "output_type": "stream",
     "text": [
      "id       708       1082      2564      4713      5495      5496      5498   \\\n",
      "id                                                                           \n",
      "708   1.000000  0.000000  0.000000  0.295743  0.258199  0.278200  0.343672   \n",
      "1082  0.000000  1.000000  0.020224  0.000000  0.000000  0.000000  0.000000   \n",
      "2564  0.000000  0.020224  1.000000  0.007285  0.000000  0.000000  0.000000   \n",
      "4713  0.295743  0.000000  0.007285  1.000000  0.223607  0.673999  0.288675   \n",
      "5495  0.258199  0.000000  0.000000  0.223607  1.000000  0.200000  0.258199   \n",
      "\n",
      "id       5499      6414      6415   ...     59285     59286  59287  59288  \\\n",
      "id                                  ...                                     \n",
      "708   0.000000  0.333333  0.000000  ...  0.315172  0.333333    0.0    0.0   \n",
      "1082  0.408248  0.000000  0.000000  ...  0.000000  0.000000    0.0    0.0   \n",
      "2564  0.000000  0.000000  0.000000  ...  0.000000  0.000000    0.5    0.5   \n",
      "4713  0.000000  0.288675  0.223607  ...  0.250000  0.577350    0.0    0.0   \n",
      "5495  0.000000  0.258199  0.400000  ...  0.670820  0.258199    0.0    0.0   \n",
      "\n",
      "id       59289     59290     59291     59292     59293     59294  \n",
      "id                                                                \n",
      "708   0.015122  0.333333  0.000000  0.000000  0.000000  0.267326  \n",
      "1082  0.005535  0.000000  0.012940  0.000000  0.218218  0.258199  \n",
      "2564  0.000000  0.000000  0.000000  0.000000  0.007319  0.000000  \n",
      "4713  0.000000  0.288675  0.010373  0.000000  0.188982  0.226500  \n",
      "5495  0.223607  0.516398  0.000000  0.316228  0.169031  0.202532  \n",
      "\n",
      "[5 rows x 7836 columns]\n"
     ]
    }
   ],
   "source": [
    "from sklearn.metrics.pairwise import cosine_similarity\n",
    "\n",
    "# Compute the cosine similarity matrix from the feature set\n",
    "similarity_matrix = cosine_similarity(movies_df.drop(['id', 'title', 'average_rating'], axis=1))\n",
    "\n",
    "# Convert the similarity matrix to a DataFrame for easier handling\n",
    "similarity_df = pd.DataFrame(similarity_matrix, index=movies_df['id'], columns=movies_df['id'])\n",
    "\n",
    "# Display a portion of the similarity matrix\n",
    "print(similarity_df.head())\n"
   ]
  },
  {
   "cell_type": "markdown",
   "id": "cb6bd9f2-fad9-4910-ada9-65d27159425e",
   "metadata": {},
   "source": [
    "#### Create a Recommendation Function\n",
    "\n",
    "Now, let's write a function that can use this similarity matrix to recommend movies. This function will take a movie ID and the number of recommendations to return, and it will find the most similar movies based on the similarity scores."
   ]
  },
  {
   "cell_type": "code",
   "execution_count": 27,
   "id": "0ce8fbfc-6907-47c8-b3b2-1aded9d556d2",
   "metadata": {},
   "outputs": [
    {
     "name": "stdout",
     "output_type": "stream",
     "text": [
      "   id                                    title  title average_rating\n",
      " 9320 Balzac and the Little Chinese Seamstress    0.0           6.77\n",
      " 9435                             Lost Embrace    0.0           6.45\n",
      " 9555                    The Keys to the House    0.0           6.46\n",
      "11319                             Hawaii, Oslo    0.0           6.69\n",
      "11693                              The Italian    0.0           6.64\n"
     ]
    }
   ],
   "source": [
    "def recommend_movies(movie_id, num_recommendations=5):\n",
    "    if movie_id not in similarity_df.index:\n",
    "        return f\"Movie ID {movie_id} not found in the dataset.\"\n",
    "    \n",
    "    sim_scores = similarity_df.loc[movie_id].sort_values(ascending=False)\n",
    "    top_indices = sim_scores.iloc[1:num_recommendations+1].index\n",
    "    \n",
    "    # Select the relevant movies directly into a new DataFrame\n",
    "    recommended_movies = movies_df[movies_df['id'].isin(top_indices)][['id', 'title', 'average_rating']]\n",
    "    \n",
    "    return recommended_movies\n",
    "\n",
    "sample_movie_id = movies_df.iloc[0]['id']\n",
    "recommendations = recommend_movies(sample_movie_id, 5)\n",
    "print(recommendations.to_string(index=False))\n"
   ]
  },
  {
   "cell_type": "code",
   "execution_count": 28,
   "id": "10ce828b-f58d-4add-85cd-53111f2893b9",
   "metadata": {},
   "outputs": [
    {
     "name": "stdout",
     "output_type": "stream",
     "text": [
      "id                  int64\n",
      "title              object\n",
      "average_rating     object\n",
      "Action              int64\n",
      "Adventure           int64\n",
      "                   ...   \n",
      "zealand           float64\n",
      "zombie            float64\n",
      "zombies           float64\n",
      "zone              float64\n",
      "zoo               float64\n",
      "Length: 5023, dtype: object\n",
      "     id                 title average_rating  Action  Adventure  Animation  \\\n",
      "0   708           Two Friends           5.64       0          0          0   \n",
      "1  1082         The Sleepover           6.49       0          0          0   \n",
      "2  2564  A Place at the Table           6.72       0          0          0   \n",
      "3  4713    The Learning Curve           5.03       0          0          0   \n",
      "4  5495         Bloody Sunday           7.35       1          1          0   \n",
      "\n",
      "   Comedy  Crime  Documentary  Drama  ...  younger  youngest  youth  youthful  \\\n",
      "0       0      0            0      1  ...      0.0       0.0    0.0       0.0   \n",
      "1       1      0            0      0  ...      0.0       0.0    0.0       0.0   \n",
      "2       0      0            1      0  ...      0.0       0.0    0.0       0.0   \n",
      "3       0      1            0      1  ...      0.0       0.0    0.0       0.0   \n",
      "4       0      0            0      1  ...      0.0       0.0    0.0       0.0   \n",
      "\n",
      "    yu  zealand  zombie  zombies  zone  zoo  \n",
      "0  0.0      0.0     0.0      0.0   0.0  0.0  \n",
      "1  0.0      0.0     0.0      0.0   0.0  0.0  \n",
      "2  0.0      0.0     0.0      0.0   0.0  0.0  \n",
      "3  0.0      0.0     0.0      0.0   0.0  0.0  \n",
      "4  0.0      0.0     0.0      0.0   0.0  0.0  \n",
      "\n",
      "[5 rows x 5023 columns]\n"
     ]
    }
   ],
   "source": [
    "# Display DataFrame structure\n",
    "print(movies_df.dtypes)\n",
    "\n",
    "# Display the first few rows of the DataFrame to inspect actual values\n",
    "print(movies_df.head())\n"
   ]
  },
  {
   "cell_type": "code",
   "execution_count": 29,
   "id": "04b1c224-ba29-4f92-a357-934809e8bd48",
   "metadata": {},
   "outputs": [
    {
     "name": "stdout",
     "output_type": "stream",
     "text": [
      "[[1.         0.         0.         0.29574298 0.25819889]\n",
      " [0.         1.         0.02022423 0.         0.        ]\n",
      " [0.         0.02022423 1.         0.00728507 0.        ]\n",
      " [0.29574298 0.         0.00728507 1.         0.2236068 ]\n",
      " [0.25819889 0.         0.         0.2236068  1.        ]]\n"
     ]
    }
   ],
   "source": [
    "# Assuming you have a function or code block that constructs the similarity matrix\n",
    "# Example snippet to display part of the similarity matrix\n",
    "print(similarity_matrix[:5, :5])  # Adjust as necessary based on actual variable names and sizes\n"
   ]
  },
  {
   "cell_type": "code",
   "execution_count": null,
   "id": "259bc05f-9a6a-4e7b-b5d5-4b8b9344c306",
   "metadata": {},
   "outputs": [],
   "source": []
  }
 ],
 "metadata": {
  "kernelspec": {
   "display_name": "Python 3 (ipykernel)",
   "language": "python",
   "name": "python3"
  },
  "language_info": {
   "codemirror_mode": {
    "name": "ipython",
    "version": 3
   },
   "file_extension": ".py",
   "mimetype": "text/x-python",
   "name": "python",
   "nbconvert_exporter": "python",
   "pygments_lexer": "ipython3",
   "version": "3.12.2"
  }
 },
 "nbformat": 4,
 "nbformat_minor": 5
}
